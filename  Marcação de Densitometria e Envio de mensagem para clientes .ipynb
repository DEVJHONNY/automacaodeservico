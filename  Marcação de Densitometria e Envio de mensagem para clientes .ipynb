{
 "cells": [
  {
   "cell_type": "code",
   "execution_count": 15,
   "metadata": {},
   "outputs": [],
   "source": [
    "import pyautogui\n",
    "import time\n",
    "import pyperclip"
   ]
  },
  {
   "cell_type": "code",
   "execution_count": 16,
   "metadata": {},
   "outputs": [],
   "source": [
    "#Marcando Densitometria no sistema Pixeon \n",
    "\n",
    "pyautogui.PAUSE = 1\n",
    "pyautogui.click(x=401, y=744)\n",
    "pyautogui.hotkey('f2')\n",
    "pyautogui.hotkey('f3')\n",
    "pyautogui.click(x=83, y=202)\n",
    "densito = 'colocarcodigodoexameouservico'\n",
    "pyperclip.copy(densito)\n",
    "pyautogui.hotkey('ctrl','v')\n",
    "pyautogui.press('tab')\n",
    "pyautogui.press('tab')\n",
    "pyautogui.press('tab')\n",
    "pyautogui.press('f4')\n",
    "pyautogui.press('tab')\n",
    "pyautogui.press('tab')\n",
    "pyautogui.press('tab')\n",
    "pyautogui.press('tab')\n",
    "pyautogui.press('tab')\n",
    "pyautogui.press('f5')\n",
    "matricula = 'matriculadopaciente'\n",
    "pyperclip.copy(matricula)\n",
    "pyautogui.hotkey('ctrl','v')\n",
    "pyautogui.press('f4')\n",
    "pyautogui.press('f5')\n",
    "texto = f\"\"\"\n",
    "MARC E ENVIADO MAXXMOBI CIET DATA E  HORA UNIDADE CANELA/LUCAS//CIET COVID//CIET DAS RESTRICOES \n",
    " \"\"\"\n",
    "pyperclip.copy(texto)\n",
    "pyautogui.hotkey('ctrl', 'v')\n",
    "time.sleep(2)\n",
    "pyautogui.press('enter')"
   ]
  },
  {
   "cell_type": "code",
   "execution_count": 17,
   "metadata": {},
   "outputs": [],
   "source": [
    "#abrir serviço de envio de mensagem\n",
    "pyautogui.PAUSE = 2\n",
    "pyautogui.click(x=460, y=747)\n",
    "pyautogui.hotkey('ctrl', 't')\n",
    "link = 'colocarlinkdositeusadoparaenviodemensagem'\n",
    "pyperclip.copy(link)\n",
    "pyautogui.hotkey('ctrl', 'v')\n",
    "pyautogui.press('enter')\n",
    "pyautogui.click(x=320, y=363)\n",
    "time.sleep(2)\n",
    "pyautogui.press('enter')\n",
    "pyautogui.press('f4')\n",
    "time.sleep(2)"
   ]
  },
  {
   "cell_type": "code",
   "execution_count": 18,
   "metadata": {},
   "outputs": [],
   "source": [
    "#Voltar ao  servico de atendimento e colocar a matricula do paciente/cliente e pegar o numero \n",
    "pyautogui.PAUSE = 1\n",
    "pyautogui.click(x=385, y=759)\n",
    "pyautogui.hotkey('f2')\n",
    "pyautogui.hotkey('f4')\n",
    "matricula = '#colocarmatricula'\n",
    "pyperclip.copy(matricula)\n",
    "pyautogui.hotkey('ctrl', 'v')\n",
    "pyautogui.press('f4')\n",
    "pyautogui.press('f11')\n",
    "pyautogui.click(x=839, y=402)\n",
    "pyautogui.rightClick(x=839, y=402)\n",
    "pyautogui.click(x=901, y=548)\n",
    "pyautogui.hotkey('ctrl','c')\n",
    "pyautogui.hotkey('esc')"
   ]
  },
  {
   "cell_type": "code",
   "execution_count": 19,
   "metadata": {},
   "outputs": [],
   "source": [
    "#Voltar ao  Atendmaxx|Maxxmobi \n",
    "pyautogui.PAUSE = 3\n",
    "pyautogui.click(x=462, y=745) \n",
    "pyautogui.click(x=435, y=214)\n",
    "pyautogui.hotkey('ctrl','v')\n",
    "pyautogui.click(x=294, y=404)\n",
    "pyautogui.click(x=794, y=328)\n",
    "pyautogui.click(x=336, y=311)\n",
    "pyautogui.click(x=737, y=638)\n",
    "\n",
    "texto = f\"\"\"\n",
    "Boa tarde  falo em nome do HOSPITAL COT.\n",
    "Venho informar que sua DENSITOMETRIA já foi AUTORIZADA.\n",
    "Foi agendado para o dia 19/05/2022 AS 13:00 no Cot canela. \n",
    "Maiores informações 2102-4438 ou 2102-4526\n",
    "\n",
    "ORIENTAÇÕES DO EXAME.\n",
    "\n",
    "\n",
    "\n",
    "NÃO PRECISA DE JEJUM.\n",
    "O PACIENTE NÃO PODE CONSUMIR NENHUM MEDICAMENTO A BASE DE CALCIO 24HR ANTES DO EXAME.\n",
    "CASO O PACIENTE TENHA REALIZADO ALGUM EXAME COM USO DE CONTRASTE, ESTE DEVE ESPERAR 07 DIAS PRA REALIZAR\n",
    "NO DIA DO EXAME ESTAR COM ROUPAS LEVES, CONFORTAVEIS, ORIENTAÇOES DE ALGODAO SEM BOTOES DE METAL, QUE NÃO SEJA GROSSO OU ASPERO.\n",
    "\n",
    "\n",
    " \"\"\"\n",
    "pyperclip.copy(texto)\n",
    "\n",
    "pyautogui.hotkey('ctrl', 'v')\n",
    "time.sleep(6)\n",
    "pyautogui.press('enter')\n",
    "\n",
    "pyperclip.copy(texto)\n",
    "\n",
    "pyautogui.hotkey('ctrl', 'v')\n",
    "time.sleep(6)\n",
    "pyautogui.press('enter')\n",
    "\n",
    "pyperclip.copy(texto)\n",
    "\n",
    "pyautogui.hotkey('ctrl', 'v')\n",
    "time.sleep(6)\n",
    "pyautogui.press('enter')\n",
    "\n",
    "pyautogui.click(x=971, y=231)\n",
    "pyautogui.click(x=668, y=329)"
   ]
  },
  {
   "cell_type": "code",
   "execution_count": 20,
   "metadata": {},
   "outputs": [
    {
     "name": "stdout",
     "output_type": "stream",
     "text": [
      "Point(x=668, y=329)\n"
     ]
    }
   ],
   "source": [
    "#posição do mouse\n",
    "time.sleep(5)\n",
    "print(pyautogui.position())\n",
    "\n",
    "\n"
   ]
  },
  {
   "cell_type": "markdown",
   "metadata": {},
   "source": []
  }
 ],
 "metadata": {
  "kernelspec": {
   "display_name": "Python 3",
   "language": "python",
   "name": "python3"
  },
  "language_info": {
   "codemirror_mode": {
    "name": "ipython",
    "version": 3
   },
   "file_extension": ".py",
   "mimetype": "text/x-python",
   "name": "python",
   "nbconvert_exporter": "python",
   "pygments_lexer": "ipython3",
   "version": "3.7.0"
  }
 },
 "nbformat": 4,
 "nbformat_minor": 2
}
